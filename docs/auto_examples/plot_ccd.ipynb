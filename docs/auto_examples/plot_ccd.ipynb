{
  "nbformat_minor": 0, 
  "nbformat": 4, 
  "cells": [
    {
      "execution_count": null, 
      "cell_type": "code", 
      "source": [
        "%matplotlib inline"
      ], 
      "outputs": [], 
      "metadata": {
        "collapsed": false
      }
    }, 
    {
      "source": [
        " Blablabla\ntralala\n\n\n"
      ], 
      "cell_type": "markdown", 
      "metadata": {}
    }, 
    {
      "execution_count": null, 
      "cell_type": "code", 
      "source": [
        "import sys\nimport numpy as np\nimport matplotlib.pyplot as plt\n\nfrom astronet.augmentations import DeadColumn, EdgeError\n\nX = np.random.rand(4,1,50,50)*50\ny = np.ones(4)\n\naugment1 = DeadColumn(prob=1)\nXtransformed, _, _ = augment1.apply(X, y, None)\n\nfig, ax = plt.subplots(len(X),2, figsize=(5,10), subplot_kw={'xticks': [], 'yticks': []})\nfig.subplots_adjust(wspace=0.1)\nax[0][0].set_title(\"Before\")\nax[0][1].set_title(\"After\")\nfor i in range(len(X)):\n    ax[i][0].imshow(X[i][0])\n    ax[i][1].imshow(Xtransformed[i][0])\n\n\naugment2 = EdgeError(prob=1)\nXtransformed, _, _ = augment2.apply(X, y, None)\n\nfig, ax = plt.subplots(len(X),2, figsize=(5,10), subplot_kw={'xticks': [], 'yticks': []})\nax[0][0].set_title(\"Before\")\nax[0][1].set_title(\"After\")\nfor i in range(len(X)):\n    ax[i][0].imshow(X[i][0])\n    ax[i][1].imshow(Xtransformed[i][0])"
      ], 
      "outputs": [], 
      "metadata": {
        "collapsed": false
      }
    }
  ], 
  "metadata": {
    "kernelspec": {
      "display_name": "Python 2", 
      "name": "python2", 
      "language": "python"
    }, 
    "language_info": {
      "mimetype": "text/x-python", 
      "nbconvert_exporter": "python", 
      "name": "python", 
      "file_extension": ".py", 
      "version": "2.7.12", 
      "pygments_lexer": "ipython2", 
      "codemirror_mode": {
        "version": 2, 
        "name": "ipython"
      }
    }
  }
}