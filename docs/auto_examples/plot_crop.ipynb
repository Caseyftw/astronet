{
  "nbformat_minor": 0, 
  "nbformat": 4, 
  "cells": [
    {
      "execution_count": null, 
      "cell_type": "code", 
      "source": [
        "%matplotlib inline"
      ], 
      "outputs": [], 
      "metadata": {
        "collapsed": false
      }
    }, 
    {
      "source": [
        " \nCrop\n==========\n\nExample usage of the Crop augmentation. Please note that the image seems to be zoomed in, but this is because matplotlib scales the images in a subplot to be of equal size.\n \n\n"
      ], 
      "cell_type": "markdown", 
      "metadata": {}
    }, 
    {
      "execution_count": null, 
      "cell_type": "code", 
      "source": [
        "import sys\nimport numpy as np\nfrom scipy.ndimage import imread\nimport matplotlib.pyplot as plt\n\nfrom astronet.augmentations import Crop\n\nX = np.array([imread('moon.jpg').transpose(2,0,1)])\ny = np.ones(1)\n\naugment = Crop(x_range=(10,40), y_range=(10,40))\nXtransformed, _, _ = augment.apply(X, y, None)\n\nfig, ax = plt.subplots(len(X),2, figsize=(4,2), squeeze=False, \n                       subplot_kw={'xticks': [], 'yticks': []})\nax[0][0].set_title(\"Before\")\nax[0][1].set_title(\"After\")\nfor i in range(len(X)):\n    ax[i][0].imshow(X[i].transpose(1,2,0), cmap=plt.get_cmap(\"gray\"))\n    ax[i][1].imshow(Xtransformed[i].transpose(1,2,0), cmap=plt.get_cmap(\"gray\"))"
      ], 
      "outputs": [], 
      "metadata": {
        "collapsed": false
      }
    }
  ], 
  "metadata": {
    "kernelspec": {
      "display_name": "Python 2", 
      "name": "python2", 
      "language": "python"
    }, 
    "language_info": {
      "mimetype": "text/x-python", 
      "nbconvert_exporter": "python", 
      "name": "python", 
      "file_extension": ".py", 
      "version": "2.7.12", 
      "pygments_lexer": "ipython2", 
      "codemirror_mode": {
        "version": 2, 
        "name": "ipython"
      }
    }
  }
}