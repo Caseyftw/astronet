{
  "nbformat_minor": 0, 
  "nbformat": 4, 
  "cells": [
    {
      "execution_count": null, 
      "cell_type": "code", 
      "source": [
        "%matplotlib inline"
      ], 
      "outputs": [], 
      "metadata": {
        "collapsed": false
      }
    }, 
    {
      "source": [
        " \nInput normalization\n===================\n\nExample usage of the Normalize augmentation. \n \n\n"
      ], 
      "cell_type": "markdown", 
      "metadata": {}
    }, 
    {
      "execution_count": null, 
      "cell_type": "code", 
      "source": [
        "import numpy as np\nimport matplotlib.pyplot as plt\n\nfrom astronet.augmentations import Normalize\n\nx1 = np.random.rand(1,50,50)*9\nx2 = np.random.rand(1,50,50)*2\nx3 = np.random.rand(1,50,50)*5\nx4 = np.random.rand(1,50,50)*1\nX = np.array([x1,x2,x3,x4])\ny = np.ones(4)\n\naugment = Normalize()\nXtransformed, _, _ = augment.apply(X, y, None)\n\nfig, ax = plt.subplots(len(X),2, figsize=(3,6), subplot_kw={'xticks': [], 'yticks': []})\nax[0][0].set_title(\"Before\")\nax[0][1].set_title(\"After\")\nfor i in range(len(X)):\n    ax[i][0].imshow(X[i][0], vmin=0, vmax=10)\n    ax[i][1].imshow(Xtransformed[i][0], vmin=0, vmax=10)"
      ], 
      "outputs": [], 
      "metadata": {
        "collapsed": false
      }
    }
  ], 
  "metadata": {
    "kernelspec": {
      "display_name": "Python 2", 
      "name": "python2", 
      "language": "python"
    }, 
    "language_info": {
      "mimetype": "text/x-python", 
      "nbconvert_exporter": "python", 
      "name": "python", 
      "file_extension": ".py", 
      "version": "2.7.12", 
      "pygments_lexer": "ipython2", 
      "codemirror_mode": {
        "version": 2, 
        "name": "ipython"
      }
    }
  }
}