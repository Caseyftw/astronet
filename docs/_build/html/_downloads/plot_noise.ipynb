{
  "nbformat_minor": 0, 
  "nbformat": 4, 
  "cells": [
    {
      "execution_count": null, 
      "cell_type": "code", 
      "source": [
        "%matplotlib inline"
      ], 
      "outputs": [], 
      "metadata": {
        "collapsed": false
      }
    }, 
    {
      "source": [
        " \nAdding noise to the input\n=========================\n\nExample usage of the AddNoise augmentation.\n \n\n"
      ], 
      "cell_type": "markdown", 
      "metadata": {}
    }, 
    {
      "execution_count": null, 
      "cell_type": "code", 
      "source": [
        "import sys\nimport numpy as np\nfrom scipy.ndimage import imread\nimport matplotlib.pyplot as plt\n\nfrom astronet.augmentations import AddNoise\n\nX = np.ones((4,1,50,50))*10\ny = np.ones(4)\n\naugment = AddNoise(scale=[0,100])\nXtransformed, _, _ = augment.apply(X, y, None)\n\nfig, ax = plt.subplots(len(X),2, figsize=(4,8), squeeze=False, \n                       subplot_kw={'xticks': [], 'yticks': []})\nax[0][0].set_title(\"Before\")\nax[0][1].set_title(\"After\")\nfor i in range(len(X)):\n    ax[i][0].imshow(X[i][0])\n    ax[i][1].imshow(Xtransformed[i][0])"
      ], 
      "outputs": [], 
      "metadata": {
        "collapsed": false
      }
    }
  ], 
  "metadata": {
    "kernelspec": {
      "display_name": "Python 2", 
      "name": "python2", 
      "language": "python"
    }, 
    "language_info": {
      "mimetype": "text/x-python", 
      "nbconvert_exporter": "python", 
      "name": "python", 
      "file_extension": ".py", 
      "version": "2.7.12", 
      "pygments_lexer": "ipython2", 
      "codemirror_mode": {
        "version": 2, 
        "name": "ipython"
      }
    }
  }
}